{
 "cells": [
  {
   "cell_type": "markdown",
   "id": "8e465e9b",
   "metadata": {},
   "source": [
    "# Data Science Tools and Ecosystem"
   ]
  },
  {
   "cell_type": "markdown",
   "id": "9057997a",
   "metadata": {},
   "source": [
    "### In this notebook, Data Science Tools and Ecosystem are summarized."
   ]
  },
  {
   "cell_type": "markdown",
   "id": "1994b706",
   "metadata": {},
   "source": [
    "#### Some of the popular languages that Data Scientists use are:"
   ]
  },
  {
   "cell_type": "markdown",
   "id": "fe48ef39",
   "metadata": {},
   "source": [
    "###### Objectives:\n",
    "- popular languages for Data Science\n",
    "- The commonly used libraries used by Data Scientis\n",
    "- A few examples of evaluating arithmetic expressions in Python.\n",
    "\n",
    "#### List popular languages for Data Science\n",
    "1. Python\n",
    "2. R\n",
    "3. Scala"
   ]
  },
  {
   "cell_type": "markdown",
   "id": "60126bb0",
   "metadata": {},
   "source": [
    "#### Some of the commonly used libraries used by Data Scientists include:"
   ]
  },
  {
   "cell_type": "markdown",
   "id": "e112e3af",
   "metadata": {},
   "source": [
    "1. NumPy\n",
    "2. Pandas\n",
    "4. Matplotlib"
   ]
  },
  {
   "cell_type": "markdown",
   "id": "cf9bbaa3",
   "metadata": {},
   "source": [
    "| Data Science Tools |\n",
    "------------------------------\n",
    "| Jupyter   |\n",
    "| Rstudio    |\n",
    "| Spyder     |"
   ]
  },
  {
   "cell_type": "markdown",
   "id": "986ca3ab",
   "metadata": {},
   "source": [
    "### Below are a few examples of evaluating arithmetic expressions in Python."
   ]
  },
  {
   "cell_type": "code",
   "execution_count": 9,
   "id": "927800a5",
   "metadata": {},
   "outputs": [
    {
     "data": {
      "text/plain": [
       "17"
      ]
     },
     "execution_count": 9,
     "metadata": {},
     "output_type": "execute_result"
    }
   ],
   "source": [
    "# This a simple arithmetic expression to mutiply then add integers\n",
    "(3*4)+5"
   ]
  },
  {
   "cell_type": "code",
   "execution_count": 10,
   "id": "0001641e",
   "metadata": {},
   "outputs": [
    {
     "name": "stdout",
     "output_type": "stream",
     "text": [
      "3.3333333333333335\n"
     ]
    }
   ],
   "source": [
    "# This will convert 200 minutes to hours by diving by 60\n",
    "Minutes = 200\n",
    "Hours = Minutes/60\n",
    "print(Hours)"
   ]
  },
  {
   "cell_type": "markdown",
   "id": "44f7b0be",
   "metadata": {},
   "source": [
    "## Author\n",
    "Mahmoud Attwany"
   ]
  },
  {
   "cell_type": "code",
   "execution_count": null,
   "id": "56bf701a",
   "metadata": {},
   "outputs": [],
   "source": []
  },
  {
   "cell_type": "code",
   "execution_count": null,
   "id": "76466d37",
   "metadata": {},
   "outputs": [],
   "source": []
  }
 ],
 "metadata": {
  "kernelspec": {
   "display_name": "Python 3 (ipykernel)",
   "language": "python",
   "name": "python3"
  },
  "language_info": {
   "codemirror_mode": {
    "name": "ipython",
    "version": 3
   },
   "file_extension": ".py",
   "mimetype": "text/x-python",
   "name": "python",
   "nbconvert_exporter": "python",
   "pygments_lexer": "ipython3",
   "version": "3.11.5"
  }
 },
 "nbformat": 4,
 "nbformat_minor": 5
}
